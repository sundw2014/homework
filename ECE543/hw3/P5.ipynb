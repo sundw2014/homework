{
 "cells": [
  {
   "cell_type": "markdown",
   "metadata": {},
   "source": [
    "# ECE 543 HW3 Problem 5"
   ]
  },
  {
   "cell_type": "markdown",
   "metadata": {},
   "source": [
    "## Test Support Vector Machine (SVM)"
   ]
  },
  {
   "cell_type": "code",
   "execution_count": 1,
   "metadata": {},
   "outputs": [
    {
     "name": "stdout",
     "output_type": "stream",
     "text": [
      "Modules imported!\n"
     ]
    }
   ],
   "source": [
    "# Import the required packages\n",
    "import numpy as np\n",
    "import matplotlib.pyplot as plt\n",
    "import pandas as pd\n",
    "from sklearn.model_selection import train_test_split\n",
    "from sklearn.svm import SVC\n",
    "from sklearn.metrics import accuracy_score\n",
    "from sklearn.model_selection import GridSearchCV\n",
    "\n",
    "print(\"Modules imported!\")"
   ]
  },
  {
   "cell_type": "code",
   "execution_count": 2,
   "metadata": {},
   "outputs": [],
   "source": [
    "# Data preprocessing\n",
    "# The data is downloaded from https://archive.ics.uci.edu/ml/datasets/banknote+authentication\n",
    "bankdata = pd.read_csv(\"bill_authentication.csv\")\n",
    "\n",
    "X = bankdata.drop('Class', axis=1)\n",
    "y = bankdata['Class']\n",
    "\n",
    "# Separate the data into training and test\n",
    "X_train, X_test, y_train, y_test = train_test_split(X, y, test_size = 0.20)"
   ]
  },
  {
   "cell_type": "code",
   "execution_count": 3,
   "metadata": {},
   "outputs": [
    {
     "name": "stdout",
     "output_type": "stream",
     "text": [
      "The average test accuracy for SVM is: 50 %, 50 %, 52 %, 69 %, 97 %, 98 %.\n"
     ]
    }
   ],
   "source": [
    "### TODO: 5(a) Train SVM with linear kernels using \"SVC\", try different C\n",
    "Cs = [1e-8, 1e-6, 1e-4, 1e-2, 1e0, 1e2]\n",
    "scores = []\n",
    "for C in Cs:\n",
    "    svclassifier = SVC(C=C,kernel='poly',degree=3)\n",
    "\n",
    "    svclassifier.fit(X_train, y_train)\n",
    "\n",
    "    # Test\n",
    "    y_pred = svclassifier.predict(X_test)\n",
    "    # Evaluate\n",
    "    scores.append(100 * accuracy_score(y_test, y_pred))\n",
    "print(('The average test accuracy for SVM is: ' + ', '.join(['%d %%' for _ in range(len(scores))]) + '.')%tuple(scores))\n",
    "\n"
   ]
  },
  {
   "cell_type": "code",
   "execution_count": 4,
   "metadata": {},
   "outputs": [
    {
     "name": "stdout",
     "output_type": "stream",
     "text": [
      "##############Linear kernel###############\n",
      "{'kernel': ('linear',), 'C': [1e-08, 1e-06, 0.0001, 0.01, 1.0, 100.0], 'max_iter': (10000000.0,)}\n",
      "{'kernel': 'linear', 'C': 1.0, 'max_iter': 10000000.0}\n",
      "linear: The average test accuracy for SVM is: 98 %\n",
      "##############Poly kernel###############\n",
      "{'gamma': array([0.01, 0.02, 0.03, 0.04, 0.05, 0.06, 0.07, 0.08, 0.09, 0.1 ]), 'kernel': ('poly',), 'C': [1e-08, 1e-06, 0.0001, 0.01, 1.0, 100.0], 'max_iter': (10000000.0,), 'degree': [1, 2, 3, 4, 5, 6, 7, 8, 9]}\n"
     ]
    },
    {
     "name": "stderr",
     "output_type": "stream",
     "text": [
      "/home/sundw/code/HooVer/env/lib/python3.5/site-packages/sklearn/svm/_base.py:231: ConvergenceWarning: Solver terminated early (max_iter=10000000).  Consider pre-processing your data with StandardScaler or MinMaxScaler.\n",
      "  % self.max_iter, ConvergenceWarning)\n",
      "/home/sundw/code/HooVer/env/lib/python3.5/site-packages/sklearn/svm/_base.py:231: ConvergenceWarning: Solver terminated early (max_iter=10000000).  Consider pre-processing your data with StandardScaler or MinMaxScaler.\n",
      "  % self.max_iter, ConvergenceWarning)\n",
      "/home/sundw/code/HooVer/env/lib/python3.5/site-packages/sklearn/svm/_base.py:231: ConvergenceWarning: Solver terminated early (max_iter=10000000).  Consider pre-processing your data with StandardScaler or MinMaxScaler.\n",
      "  % self.max_iter, ConvergenceWarning)\n",
      "/home/sundw/code/HooVer/env/lib/python3.5/site-packages/sklearn/svm/_base.py:231: ConvergenceWarning: Solver terminated early (max_iter=10000000).  Consider pre-processing your data with StandardScaler or MinMaxScaler.\n",
      "  % self.max_iter, ConvergenceWarning)\n",
      "/home/sundw/code/HooVer/env/lib/python3.5/site-packages/sklearn/svm/_base.py:231: ConvergenceWarning: Solver terminated early (max_iter=10000000).  Consider pre-processing your data with StandardScaler or MinMaxScaler.\n",
      "  % self.max_iter, ConvergenceWarning)\n",
      "/home/sundw/code/HooVer/env/lib/python3.5/site-packages/sklearn/svm/_base.py:231: ConvergenceWarning: Solver terminated early (max_iter=10000000).  Consider pre-processing your data with StandardScaler or MinMaxScaler.\n",
      "  % self.max_iter, ConvergenceWarning)\n",
      "/home/sundw/code/HooVer/env/lib/python3.5/site-packages/sklearn/svm/_base.py:231: ConvergenceWarning: Solver terminated early (max_iter=10000000).  Consider pre-processing your data with StandardScaler or MinMaxScaler.\n",
      "  % self.max_iter, ConvergenceWarning)\n",
      "/home/sundw/code/HooVer/env/lib/python3.5/site-packages/sklearn/svm/_base.py:231: ConvergenceWarning: Solver terminated early (max_iter=10000000).  Consider pre-processing your data with StandardScaler or MinMaxScaler.\n",
      "  % self.max_iter, ConvergenceWarning)\n",
      "/home/sundw/code/HooVer/env/lib/python3.5/site-packages/sklearn/svm/_base.py:231: ConvergenceWarning: Solver terminated early (max_iter=10000000).  Consider pre-processing your data with StandardScaler or MinMaxScaler.\n",
      "  % self.max_iter, ConvergenceWarning)\n",
      "/home/sundw/code/HooVer/env/lib/python3.5/site-packages/sklearn/svm/_base.py:231: ConvergenceWarning: Solver terminated early (max_iter=10000000).  Consider pre-processing your data with StandardScaler or MinMaxScaler.\n",
      "  % self.max_iter, ConvergenceWarning)\n"
     ]
    },
    {
     "name": "stdout",
     "output_type": "stream",
     "text": [
      "{'gamma': 0.1, 'kernel': 'poly', 'C': 100.0, 'max_iter': 10000000.0, 'degree': 3}\n",
      "poly: The average test accuracy for SVM is: 99 %\n",
      "##############RBF kernel###############\n",
      "{'gamma': array([0.01, 0.02, 0.03, 0.04, 0.05, 0.06, 0.07, 0.08, 0.09, 0.1 ]), 'kernel': ('rbf',), 'C': [1e-08, 1e-06, 0.0001, 0.01, 1.0, 100.0], 'max_iter': (10000000.0,)}\n",
      "{'gamma': 0.05, 'kernel': 'rbf', 'C': 1.0, 'max_iter': 10000000.0}\n",
      "rbf: The average test accuracy for SVM is: 100 %\n",
      "##############Sigmoid kernel###############\n",
      "{'gamma': array([0.01, 0.02, 0.03, 0.04, 0.05, 0.06, 0.07, 0.08, 0.09, 0.1 ]), 'kernel': ('sigmoid',), 'C': [1e-08, 1e-06, 0.0001, 0.01, 1.0, 100.0], 'max_iter': (10000000.0,)}\n",
      "{'gamma': 0.01, 'kernel': 'sigmoid', 'C': 0.01, 'max_iter': 10000000.0}\n",
      "sigmoid: The average test accuracy for SVM is: 81 %\n"
     ]
    }
   ],
   "source": [
    "### TODO: 5(b) Similarly, train SVM with different kernels using \"SVC\", try grid-search the hyperparameters using \"GridSearchCV\"\n",
    "\n",
    "### Put your code here ###\n",
    "#### linear\n",
    "print('##############Linear kernel###############')\n",
    "parameters = {'kernel':('linear',), 'C':[1e-8, 1e-6, 1e-4, 1e-2, 1e0, 1e2], 'max_iter':(1e7,)}\n",
    "print(parameters)\n",
    "search = GridSearchCV(SVC(), parameters)\n",
    "search.fit(X_train, y_train, )\n",
    "print(search.best_params_)\n",
    "svclassifier = SVC(**search.best_params_)\n",
    "svclassifier.fit(X_train, y_train)\n",
    "##### Test\n",
    "y_pred = svclassifier.predict(X_test)\n",
    "###### Evaluate\n",
    "print(parameters['kernel'][0] + ': The average test accuracy for SVM is: %d %%' % (100 * accuracy_score(y_test, y_pred)))\n",
    "\n",
    "#### poly\n",
    "print('##############Poly kernel###############')\n",
    "parameters = {'kernel':('poly',), 'C':[1e-8, 1e-6, 1e-4, 1e-2, 1e0, 1e2], 'degree':list(range(1,10)), 'gamma':np.array(range(1,11))*0.01, 'max_iter':(1e7,)}\n",
    "print(parameters)\n",
    "search = GridSearchCV(SVC(), parameters)\n",
    "search.fit(X_train, y_train, )\n",
    "print(search.best_params_)\n",
    "svclassifier = SVC(**search.best_params_)\n",
    "svclassifier.fit(X_train, y_train)\n",
    "##### Test\n",
    "y_pred = svclassifier.predict(X_test)\n",
    "###### Evaluate\n",
    "print(parameters['kernel'][0] + ': The average test accuracy for SVM is: %d %%' % (100 * accuracy_score(y_test, y_pred)))\n",
    "\n",
    "#### rbf\n",
    "print('##############RBF kernel###############')\n",
    "parameters = {'kernel':('rbf',), 'C':[1e-8, 1e-6, 1e-4, 1e-2, 1e0, 1e2], 'gamma':np.array(range(1,11))*0.01, 'max_iter':(1e7,)}\n",
    "print(parameters)\n",
    "search = GridSearchCV(SVC(), parameters)\n",
    "search.fit(X_train, y_train, )\n",
    "print(search.best_params_)\n",
    "svclassifier = SVC(**search.best_params_)\n",
    "svclassifier.fit(X_train, y_train)\n",
    "##### Test\n",
    "y_pred = svclassifier.predict(X_test)\n",
    "###### Evaluate\n",
    "print(parameters['kernel'][0] + ': The average test accuracy for SVM is: %d %%' % (100 * accuracy_score(y_test, y_pred)))\n",
    "\n",
    "#### sigmoid\n",
    "print('##############Sigmoid kernel###############')\n",
    "parameters = {'kernel':('sigmoid',), 'C':[1e-8, 1e-6, 1e-4, 1e-2, 1e0, 1e2], 'gamma':np.array(range(1,11))*0.01, 'max_iter':(1e7,)}\n",
    "print(parameters)\n",
    "search = GridSearchCV(SVC(), parameters)\n",
    "search.fit(X_train, y_train, )\n",
    "print(search.best_params_)\n",
    "svclassifier = SVC(**search.best_params_)\n",
    "svclassifier.fit(X_train, y_train)\n",
    "##### Test\n",
    "y_pred = svclassifier.predict(X_test)\n",
    "###### Evaluate\n",
    "print(parameters['kernel'][0] + ': The average test accuracy for SVM is: %d %%' % (100 * accuracy_score(y_test, y_pred)))\n",
    "\n",
    "### Put your code here ###\n"
   ]
  },
  {
   "cell_type": "code",
   "execution_count": null,
   "metadata": {},
   "outputs": [],
   "source": []
  }
 ],
 "metadata": {
  "kernelspec": {
   "display_name": "Python 3",
   "language": "python",
   "name": "python3"
  },
  "language_info": {
   "codemirror_mode": {
    "name": "ipython",
    "version": 3
   },
   "file_extension": ".py",
   "mimetype": "text/x-python",
   "name": "python",
   "nbconvert_exporter": "python",
   "pygments_lexer": "ipython3",
   "version": "3.5.2"
  }
 },
 "nbformat": 4,
 "nbformat_minor": 4
}
